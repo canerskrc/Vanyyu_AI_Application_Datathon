{
 "cells": [
  {
   "cell_type": "markdown",
   "id": "79bf6f2e",
   "metadata": {
    "papermill": {
     "duration": 0.003653,
     "end_time": "2024-06-12T17:52:14.700369",
     "exception": false,
     "start_time": "2024-06-12T17:52:14.696716",
     "status": "completed"
    },
    "tags": []
   },
   "source": []
  },
  {
   "cell_type": "markdown",
   "id": "f95925c0",
   "metadata": {
    "papermill": {
     "duration": 0.00303,
     "end_time": "2024-06-12T17:52:14.706511",
     "exception": false,
     "start_time": "2024-06-12T17:52:14.703481",
     "status": "completed"
    },
    "tags": []
   },
   "source": [
    "**1. Giriş ve Veri Yükleme**\n",
    "\n",
    "Kütüphanelerin İçe Aktarılması: Pandas ve diğer gerekli kütüphaneleri içe aktarın.\n",
    "\n",
    "Veri Setinin Yüklenmesi: Kaggle'dan yüklenen e-ticaret veri setini yükleyin.\n",
    "\n",
    "# Veri setini yükle\n",
    "df = pd.read_csv('/kaggle/input/e_commerce_data.csv')\n",
    "\n"
   ]
  },
  {
   "cell_type": "code",
   "execution_count": null,
   "id": "2ec4edc6",
   "metadata": {
    "papermill": {
     "duration": 0.002436,
     "end_time": "2024-06-12T17:52:14.711708",
     "exception": false,
     "start_time": "2024-06-12T17:52:14.709272",
     "status": "completed"
    },
    "tags": []
   },
   "outputs": [],
   "source": []
  },
  {
   "cell_type": "markdown",
   "id": "26ad8fe4",
   "metadata": {
    "papermill": {
     "duration": 0.002629,
     "end_time": "2024-06-12T17:52:14.717287",
     "exception": false,
     "start_time": "2024-06-12T17:52:14.714658",
     "status": "completed"
    },
    "tags": []
   },
   "source": [
    "**2. Veri Keşfi ve Ön İşleme**\n",
    "\n",
    "Veri Setinin İlk Bakış: Veri setini gözden geçirin ve ilk birkaç satırı inceleyin.\n",
    "\n",
    "Eksik Veri Kontrolü: Eksik verileri kontrol edin ve gerekirse eksik verileri işleyin veya doldurun.\n",
    "\n",
    "Veri Türlerinin Kontrolü: Her bir sütunun veri türlerini kontrol edin ve uygun dönüşümleri yapın.\n",
    "\n",
    "Kategorik Değişkenlerin Kodlanması: Kategorik değişkenleri sayısal değerlere dönüştürün.\n"
   ]
  },
  {
   "cell_type": "code",
   "execution_count": null,
   "id": "b3990207",
   "metadata": {
    "papermill": {
     "duration": 0.002464,
     "end_time": "2024-06-12T17:52:14.722439",
     "exception": false,
     "start_time": "2024-06-12T17:52:14.719975",
     "status": "completed"
    },
    "tags": []
   },
   "outputs": [],
   "source": []
  },
  {
   "cell_type": "markdown",
   "id": "ac993fc7",
   "metadata": {
    "papermill": {
     "duration": 0.002623,
     "end_time": "2024-06-12T17:52:14.727886",
     "exception": false,
     "start_time": "2024-06-12T17:52:14.725263",
     "status": "completed"
    },
    "tags": []
   },
   "source": [
    "**3. Veri Görselleştirme**\n",
    "\n",
    "Ürün Kategorilerinin Dağılımı: Ürün kategorilerinin dağılımını görselleştirin.\n",
    "\n",
    "Fiyat Dağılımı: Ürünlerin fiyat dağılımını görselleştirin.\n",
    "\n",
    "Satış Sayısı ve Stok Miktarı: Ürünlerin satış sayıları ve stok miktarlarını görselleştirin.\n"
   ]
  },
  {
   "cell_type": "code",
   "execution_count": null,
   "id": "45748573",
   "metadata": {
    "papermill": {
     "duration": 0.002567,
     "end_time": "2024-06-12T17:52:14.733232",
     "exception": false,
     "start_time": "2024-06-12T17:52:14.730665",
     "status": "completed"
    },
    "tags": []
   },
   "outputs": [],
   "source": []
  },
  {
   "cell_type": "markdown",
   "id": "68f36512",
   "metadata": {
    "papermill": {
     "duration": 0.002437,
     "end_time": "2024-06-12T17:52:14.738472",
     "exception": false,
     "start_time": "2024-06-12T17:52:14.736035",
     "status": "completed"
    },
    "tags": []
   },
   "source": [
    "**4. Veri Ön İşleme ve Sayısallaştırma**\n",
    "\n",
    "Kategorik Değişkenlerin Kodlanması: Kategorik değişkenleri sayısal değerlere dönüştürün (örneğin, one-hot encoding veya label encoding).\n",
    "\n",
    "Özellik Seçimi: Model için önemli olabilecek özellikleri seçin.\n",
    "\n",
    "Veri Normalizasyonu: Sayısal özellikleri normalize edin.\n"
   ]
  },
  {
   "cell_type": "code",
   "execution_count": null,
   "id": "8e8582f9",
   "metadata": {
    "papermill": {
     "duration": 0.002962,
     "end_time": "2024-06-12T17:52:14.744097",
     "exception": false,
     "start_time": "2024-06-12T17:52:14.741135",
     "status": "completed"
    },
    "tags": []
   },
   "outputs": [],
   "source": []
  },
  {
   "cell_type": "markdown",
   "id": "8ca5928f",
   "metadata": {
    "papermill": {
     "duration": 0.00346,
     "end_time": "2024-06-12T17:52:14.750890",
     "exception": false,
     "start_time": "2024-06-12T17:52:14.747430",
     "status": "completed"
    },
    "tags": []
   },
   "source": [
    "**5. Model Oluşturma ve Değerlendirme**\n",
    "\n",
    "Veri Setinin Bölünmesi: Veri setini eğitim ve test kümelerine ayırın.\n",
    "\n",
    "Model Seçimi: Uygun bir model seçin (örneğin, Logistic Regression, Decision Trees, Random Forest vb.).\n",
    "\n",
    "Model Eğitimi: Seçilen modeli eğitin.\n",
    "\n",
    "Model Değerlendirmesi: Modelin performansını değerlendirin (örneğin, doğruluk, hassasiyet, geri çağırma gibi metrikler kullanarak)."
   ]
  },
  {
   "cell_type": "code",
   "execution_count": null,
   "id": "30108e5d",
   "metadata": {
    "papermill": {
     "duration": 0.002465,
     "end_time": "2024-06-12T17:52:14.756289",
     "exception": false,
     "start_time": "2024-06-12T17:52:14.753824",
     "status": "completed"
    },
    "tags": []
   },
   "outputs": [],
   "source": []
  }
 ],
 "metadata": {
  "kaggle": {
   "accelerator": "none",
   "dataSources": [],
   "dockerImageVersionId": 30732,
   "isGpuEnabled": false,
   "isInternetEnabled": false,
   "language": "python",
   "sourceType": "notebook"
  },
  "kernelspec": {
   "display_name": "Python 3",
   "language": "python",
   "name": "python3"
  },
  "language_info": {
   "codemirror_mode": {
    "name": "ipython",
    "version": 3
   },
   "file_extension": ".py",
   "mimetype": "text/x-python",
   "name": "python",
   "nbconvert_exporter": "python",
   "pygments_lexer": "ipython3",
   "version": "3.10.13"
  },
  "papermill": {
   "default_parameters": {},
   "duration": 3.186106,
   "end_time": "2024-06-12T17:52:15.078743",
   "environment_variables": {},
   "exception": null,
   "input_path": "__notebook__.ipynb",
   "output_path": "__notebook__.ipynb",
   "parameters": {},
   "start_time": "2024-06-12T17:52:11.892637",
   "version": "2.5.0"
  }
 },
 "nbformat": 4,
 "nbformat_minor": 5
}
