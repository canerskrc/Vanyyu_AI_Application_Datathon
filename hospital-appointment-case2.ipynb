{
 "cells": [
  {
   "cell_type": "code",
   "execution_count": null,
   "id": "39ca96be",
   "metadata": {
    "papermill": {
     "duration": 0.003419,
     "end_time": "2024-06-12T17:53:37.786632",
     "exception": false,
     "start_time": "2024-06-12T17:53:37.783213",
     "status": "completed"
    },
    "tags": []
   },
   "outputs": [],
   "source": []
  },
  {
   "cell_type": "markdown",
   "id": "84f99505",
   "metadata": {
    "papermill": {
     "duration": 0.002581,
     "end_time": "2024-06-12T17:53:37.792279",
     "exception": false,
     "start_time": "2024-06-12T17:53:37.789698",
     "status": "completed"
    },
    "tags": []
   },
   "source": [
    "**1-Veriler üzerinde yapılacak işlemler için gerekli kütüphaneleri yükleyin**"
   ]
  },
  {
   "cell_type": "code",
   "execution_count": null,
   "id": "09674fcf",
   "metadata": {
    "papermill": {
     "duration": 0.002761,
     "end_time": "2024-06-12T17:53:37.797729",
     "exception": false,
     "start_time": "2024-06-12T17:53:37.794968",
     "status": "completed"
    },
    "tags": []
   },
   "outputs": [],
   "source": []
  },
  {
   "cell_type": "markdown",
   "id": "2c305ea3",
   "metadata": {
    "papermill": {
     "duration": 0.002685,
     "end_time": "2024-06-12T17:53:37.803136",
     "exception": false,
     "start_time": "2024-06-12T17:53:37.800451",
     "status": "completed"
    },
    "tags": []
   },
   "source": [
    "**2. Veri Keşfi ve Ön İşleme**\n",
    "\n",
    "Veri Setinin İlk Bakış: Veri setini gözden geçirin ve ilk birkaç satırı inceleyin.\n",
    "\n",
    "Eksik Veri Kontrolü: Eksik verileri kontrol edin ve gerekirse eksik verileri işleyin veya doldurun.\n",
    "\n",
    "Veri Türlerinin Kontrolü: Her bir sütunun veri türlerini kontrol edin ve uygun dönüşümleri yapın.\n",
    "\n",
    "Kategorik Değişkenlerin Kodlanması: Kategorik değişkenleri sayısal değerlere dönüştürün.\n"
   ]
  },
  {
   "cell_type": "code",
   "execution_count": null,
   "id": "30938bf1",
   "metadata": {
    "papermill": {
     "duration": 0.002462,
     "end_time": "2024-06-12T17:53:37.808278",
     "exception": false,
     "start_time": "2024-06-12T17:53:37.805816",
     "status": "completed"
    },
    "tags": []
   },
   "outputs": [],
   "source": []
  },
  {
   "cell_type": "markdown",
   "id": "9bbbc429",
   "metadata": {
    "papermill": {
     "duration": 0.002334,
     "end_time": "2024-06-12T17:53:37.813304",
     "exception": false,
     "start_time": "2024-06-12T17:53:37.810970",
     "status": "completed"
    },
    "tags": []
   },
   "source": [
    "**3. Veri Görselleştirme**\n",
    "\n",
    "Hastane Randevu Dağılımı: Randevuların tarih, saat, cinsiyet, hastalık vb. özelliklere göre dağılımını görselleştirin.\n",
    "\n",
    "No-Show Oranı: No-show (randevuya gelmeme) oranlarını görselleştirin ve faktörler arasındaki ilişkiyi inceleyin.\n",
    "\n",
    "Korelasyon Matrisi: Değişkenler arasındaki ilişkiyi göstermek için bir korelasyon matrisi oluşturun.\n"
   ]
  },
  {
   "cell_type": "code",
   "execution_count": null,
   "id": "1b855089",
   "metadata": {
    "papermill": {
     "duration": 0.002383,
     "end_time": "2024-06-12T17:53:37.818232",
     "exception": false,
     "start_time": "2024-06-12T17:53:37.815849",
     "status": "completed"
    },
    "tags": []
   },
   "outputs": [],
   "source": []
  },
  {
   "cell_type": "markdown",
   "id": "131bd104",
   "metadata": {
    "papermill": {
     "duration": 0.002318,
     "end_time": "2024-06-12T17:53:37.823056",
     "exception": false,
     "start_time": "2024-06-12T17:53:37.820738",
     "status": "completed"
    },
    "tags": []
   },
   "source": [
    "**4. Veri Ön İşleme ve Sayısallaştırma**\n",
    "\n",
    "Kategorik Değişkenlerin Kodlanması: Kategorik değişkenleri sayısal değerlere dönüştürün (örneğin, one-hot encoding veya label encoding).\n",
    "\n",
    "Özellik Seçimi: Model için önemli olabilecek özellikleri seçin.\n",
    "\n",
    "Veri Normalizasyonu: Sayısal özellikleri normalize edin.\n"
   ]
  },
  {
   "cell_type": "code",
   "execution_count": null,
   "id": "1517e84e",
   "metadata": {
    "papermill": {
     "duration": 0.002402,
     "end_time": "2024-06-12T17:53:37.827960",
     "exception": false,
     "start_time": "2024-06-12T17:53:37.825558",
     "status": "completed"
    },
    "tags": []
   },
   "outputs": [],
   "source": []
  },
  {
   "cell_type": "markdown",
   "id": "ff7dc734",
   "metadata": {
    "papermill": {
     "duration": 0.002362,
     "end_time": "2024-06-12T17:53:37.832832",
     "exception": false,
     "start_time": "2024-06-12T17:53:37.830470",
     "status": "completed"
    },
    "tags": []
   },
   "source": [
    "**5. Model Oluşturma ve Değerlendirme**\n",
    "\n",
    "Veri Setinin Bölünmesi: Veri setini eğitim ve test kümelerine ayırın.\n",
    "\n",
    "Model Seçimi: Uygun bir model seçin (örneğin, Logistic Regression, Decision Trees, Random Forest vb.).\n",
    "\n",
    "Model Eğitimi: Seçilen modeli eğitin.\n",
    "\n",
    "Model Değerlendirmesi: Modelin performansını değerlendirin (örneğin, doğruluk, hassasiyet, geri çağırma gibi metrikler kullanarak)."
   ]
  },
  {
   "cell_type": "code",
   "execution_count": null,
   "id": "a0f228ae",
   "metadata": {
    "papermill": {
     "duration": 0.002347,
     "end_time": "2024-06-12T17:53:37.837717",
     "exception": false,
     "start_time": "2024-06-12T17:53:37.835370",
     "status": "completed"
    },
    "tags": []
   },
   "outputs": [],
   "source": []
  }
 ],
 "metadata": {
  "kaggle": {
   "accelerator": "none",
   "dataSources": [],
   "dockerImageVersionId": 30732,
   "isGpuEnabled": false,
   "isInternetEnabled": false,
   "language": "python",
   "sourceType": "notebook"
  },
  "kernelspec": {
   "display_name": "Python 3",
   "language": "python",
   "name": "python3"
  },
  "language_info": {
   "codemirror_mode": {
    "name": "ipython",
    "version": 3
   },
   "file_extension": ".py",
   "mimetype": "text/x-python",
   "name": "python",
   "nbconvert_exporter": "python",
   "pygments_lexer": "ipython3",
   "version": "3.10.13"
  },
  "papermill": {
   "default_parameters": {},
   "duration": 6.016946,
   "end_time": "2024-06-12T17:53:41.074095",
   "environment_variables": {},
   "exception": null,
   "input_path": "__notebook__.ipynb",
   "output_path": "__notebook__.ipynb",
   "parameters": {},
   "start_time": "2024-06-12T17:53:35.057149",
   "version": "2.5.0"
  }
 },
 "nbformat": 4,
 "nbformat_minor": 5
}
